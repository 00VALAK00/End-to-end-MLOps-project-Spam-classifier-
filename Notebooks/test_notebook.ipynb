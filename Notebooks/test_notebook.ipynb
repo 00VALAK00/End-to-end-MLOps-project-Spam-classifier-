{
 "cells": [
  {
   "metadata": {
    "ExecuteTime": {
     "end_time": "2024-10-09T13:26:21.564719Z",
     "start_time": "2024-10-09T13:26:21.531917Z"
    }
   },
   "cell_type": "code",
   "source": "from config.config_reader import ConfigReader\n",
   "id": "2345c67e210aa564",
   "outputs": [],
   "execution_count": 1
  },
  {
   "metadata": {
    "ExecuteTime": {
     "end_time": "2024-10-09T14:22:19.523925Z",
     "start_time": "2024-10-09T14:22:19.514510Z"
    }
   },
   "cell_type": "code",
   "source": [
    "from pathlib import Path\n",
    "import pandas as pd \n",
    "df=pd.read_csv(\"../data/email-classification-nlp/SMS_test.csv\",encoding=\"ISO-8859-1\",usecols=[\"Message_body\",\"Label\"])\n",
    "df[\"Label\"].unique()"
   ],
   "id": "6796d4fb01bf2d59",
   "outputs": [
    {
     "data": {
      "text/plain": [
       "array(['Spam', 'Non-Spam'], dtype=object)"
      ]
     },
     "execution_count": 10,
     "metadata": {},
     "output_type": "execute_result"
    }
   ],
   "execution_count": 10
  },
  {
   "metadata": {
    "ExecuteTime": {
     "end_time": "2024-10-09T13:26:22.705552Z",
     "start_time": "2024-10-09T13:26:22.694599Z"
    }
   },
   "cell_type": "code",
   "source": "data_ingestion_config=config_reader.import_data_ingestion_config()",
   "id": "5a699a4b5d380c55",
   "outputs": [],
   "execution_count": 3
  },
  {
   "metadata": {
    "ExecuteTime": {
     "end_time": "2024-10-09T14:42:58.076021Z",
     "start_time": "2024-10-09T14:42:58.065047Z"
    }
   },
   "cell_type": "code",
   "source": [
    "from config.config_entities import DataValidationConfig\n",
    "\n",
    "dvc=DataValidationConfig()"
   ],
   "id": "c57889177c27351",
   "outputs": [],
   "execution_count": 2
  },
  {
   "metadata": {
    "ExecuteTime": {
     "end_time": "2024-10-09T14:44:12.368802Z",
     "start_time": "2024-10-09T14:44:12.364405Z"
    }
   },
   "cell_type": "code",
   "source": "dvc.label_values",
   "id": "a03fe530852e5c5f",
   "outputs": [
    {
     "data": {
      "text/plain": [
       "['Spam', 'Non-Spam']"
      ]
     },
     "execution_count": 7,
     "metadata": {},
     "output_type": "execute_result"
    }
   ],
   "execution_count": 7
  },
  {
   "metadata": {},
   "cell_type": "code",
   "outputs": [],
   "execution_count": null,
   "source": "",
   "id": "20baeafef619f48c"
  }
 ],
 "metadata": {
  "kernelspec": {
   "display_name": "Python 3",
   "language": "python",
   "name": "python3"
  },
  "language_info": {
   "codemirror_mode": {
    "name": "ipython",
    "version": 2
   },
   "file_extension": ".py",
   "mimetype": "text/x-python",
   "name": "python",
   "nbconvert_exporter": "python",
   "pygments_lexer": "ipython2",
   "version": "2.7.6"
  }
 },
 "nbformat": 4,
 "nbformat_minor": 5
}
